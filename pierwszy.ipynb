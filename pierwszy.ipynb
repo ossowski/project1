{
  "nbformat": 4,
  "nbformat_minor": 0,
  "metadata": {
    "colab": {
      "provenance": [],
      "authorship_tag": "ABX9TyPyN9NV/KuZJjU3ik8eo2DV",
      "include_colab_link": true
    },
    "kernelspec": {
      "name": "python3",
      "display_name": "Python 3"
    },
    "language_info": {
      "name": "python"
    }
  },
  "cells": [
    {
      "cell_type": "markdown",
      "metadata": {
        "id": "view-in-github",
        "colab_type": "text"
      },
      "source": [
        "<a href=\"https://colab.research.google.com/github/ossowski/project1/blob/master/pierwszy.ipynb\" target=\"_parent\"><img src=\"https://colab.research.google.com/assets/colab-badge.svg\" alt=\"Open In Colab\"/></a>"
      ]
    },
    {
      "cell_type": "code",
      "execution_count": 2,
      "metadata": {
        "colab": {
          "base_uri": "https://localhost:8080/"
        },
        "id": "4JAEHPHMJZFB",
        "outputId": "767669d6-a35f-4788-97ef-d36085a492b9"
      },
      "outputs": [
        {
          "output_type": "stream",
          "name": "stdout",
          "text": [
            "Cześć Kazik\n"
          ]
        }
      ],
      "source": [
        "print(\"Cześć Kazik\")"
      ]
    },
    {
      "cell_type": "markdown",
      "source": [],
      "metadata": {
        "id": "OgspDFWEJ1Uk"
      }
    },
    {
      "cell_type": "code",
      "source": [],
      "metadata": {
        "id": "J7JT-r2hJzdV"
      },
      "execution_count": null,
      "outputs": []
    }
  ]
}